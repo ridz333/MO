{
 "cells": [
  {
   "cell_type": "code",
   "execution_count": 98,
   "metadata": {},
   "outputs": [],
   "source": [
    "import numpy as np\n",
    "import pandas as pd\n",
    "from sklearn.neighbors import KNeighborsRegressor,KNeighborsClassifier\n",
    "from sklearn.model_selection import train_test_split"
   ]
  },
  {
   "cell_type": "code",
   "execution_count": 99,
   "metadata": {},
   "outputs": [],
   "source": [
    "data = pd.read_csv('travel-times.csv')"
   ]
  },
  {
   "cell_type": "code",
   "execution_count": 100,
   "metadata": {},
   "outputs": [
    {
     "data": {
      "text/plain": [
       "Date                0\n",
       "StartTime           0\n",
       "DayOfWeek           0\n",
       "GoingTo             0\n",
       "Distance            0\n",
       "MaxSpeed            0\n",
       "AvgSpeed            0\n",
       "AvgMovingSpeed      0\n",
       "FuelEconomy        17\n",
       "TotalTime           0\n",
       "MovingTime          0\n",
       "Take407All          0\n",
       "Comments          181\n",
       "dtype: int64"
      ]
     },
     "execution_count": 100,
     "metadata": {},
     "output_type": "execute_result"
    }
   ],
   "source": [
    "data.isnull().sum()"
   ]
  },
  {
   "cell_type": "code",
   "execution_count": 101,
   "metadata": {},
   "outputs": [
    {
     "data": {
      "text/plain": [
       "(23, 13)"
      ]
     },
     "execution_count": 101,
     "metadata": {},
     "output_type": "execute_result"
    }
   ],
   "source": [
    "data = data.dropna(axis=0, how='any')\n",
    "(data.shape)"
   ]
  },
  {
   "cell_type": "code",
   "execution_count": 102,
   "metadata": {},
   "outputs": [
    {
     "data": {
      "text/html": [
       "<div>\n",
       "<style scoped>\n",
       "    .dataframe tbody tr th:only-of-type {\n",
       "        vertical-align: middle;\n",
       "    }\n",
       "\n",
       "    .dataframe tbody tr th {\n",
       "        vertical-align: top;\n",
       "    }\n",
       "\n",
       "    .dataframe thead th {\n",
       "        text-align: right;\n",
       "    }\n",
       "</style>\n",
       "<table border=\"1\" class=\"dataframe\">\n",
       "  <thead>\n",
       "    <tr style=\"text-align: right;\">\n",
       "      <th></th>\n",
       "      <th>Date</th>\n",
       "      <th>StartTime</th>\n",
       "      <th>DayOfWeek</th>\n",
       "      <th>GoingTo</th>\n",
       "      <th>Distance</th>\n",
       "      <th>MaxSpeed</th>\n",
       "      <th>AvgSpeed</th>\n",
       "      <th>AvgMovingSpeed</th>\n",
       "      <th>FuelEconomy</th>\n",
       "      <th>TotalTime</th>\n",
       "      <th>MovingTime</th>\n",
       "      <th>Take407All</th>\n",
       "      <th>Comments</th>\n",
       "    </tr>\n",
       "  </thead>\n",
       "  <tbody>\n",
       "    <tr>\n",
       "      <th>15</th>\n",
       "      <td>12/19/2011</td>\n",
       "      <td>07:34</td>\n",
       "      <td>Monday</td>\n",
       "      <td>GSK</td>\n",
       "      <td>52.00</td>\n",
       "      <td>137.8</td>\n",
       "      <td>76.5</td>\n",
       "      <td>87.8</td>\n",
       "      <td>8.89</td>\n",
       "      <td>40.8</td>\n",
       "      <td>35.5</td>\n",
       "      <td>No</td>\n",
       "      <td>Put snow tires on</td>\n",
       "    </tr>\n",
       "    <tr>\n",
       "      <th>49</th>\n",
       "      <td>11/21/2011</td>\n",
       "      <td>07:24</td>\n",
       "      <td>Monday</td>\n",
       "      <td>GSK</td>\n",
       "      <td>52.25</td>\n",
       "      <td>127.3</td>\n",
       "      <td>38.1</td>\n",
       "      <td>50.3</td>\n",
       "      <td>10.05</td>\n",
       "      <td>82.3</td>\n",
       "      <td>62.4</td>\n",
       "      <td>No</td>\n",
       "      <td>Huge traffic backup</td>\n",
       "    </tr>\n",
       "    <tr>\n",
       "      <th>50</th>\n",
       "      <td>11/17/2011</td>\n",
       "      <td>16:16</td>\n",
       "      <td>Thursday</td>\n",
       "      <td>Home</td>\n",
       "      <td>51.16</td>\n",
       "      <td>127.6</td>\n",
       "      <td>72.4</td>\n",
       "      <td>77.4</td>\n",
       "      <td>10.05</td>\n",
       "      <td>42.4</td>\n",
       "      <td>39.6</td>\n",
       "      <td>No</td>\n",
       "      <td>Pumped tires up: check fuel economy improved?</td>\n",
       "    </tr>\n",
       "    <tr>\n",
       "      <th>52</th>\n",
       "      <td>11/16/2011</td>\n",
       "      <td>16:13</td>\n",
       "      <td>Wednesday</td>\n",
       "      <td>Home</td>\n",
       "      <td>51.12</td>\n",
       "      <td>125.1</td>\n",
       "      <td>65.0</td>\n",
       "      <td>73.1</td>\n",
       "      <td>9.53</td>\n",
       "      <td>47.2</td>\n",
       "      <td>41.9</td>\n",
       "      <td>No</td>\n",
       "      <td>Backed up at Bronte</td>\n",
       "    </tr>\n",
       "    <tr>\n",
       "      <th>54</th>\n",
       "      <td>11/15/2011</td>\n",
       "      <td>17:36</td>\n",
       "      <td>Tuesday</td>\n",
       "      <td>Home</td>\n",
       "      <td>51.06</td>\n",
       "      <td>122.8</td>\n",
       "      <td>61.4</td>\n",
       "      <td>70.9</td>\n",
       "      <td>9.53</td>\n",
       "      <td>49.9</td>\n",
       "      <td>43.2</td>\n",
       "      <td>No</td>\n",
       "      <td>Backed up at Bronte</td>\n",
       "    </tr>\n",
       "  </tbody>\n",
       "</table>\n",
       "</div>"
      ],
      "text/plain": [
       "          Date StartTime  DayOfWeek GoingTo  Distance  MaxSpeed  AvgSpeed  \\\n",
       "15  12/19/2011     07:34     Monday     GSK     52.00     137.8      76.5   \n",
       "49  11/21/2011     07:24     Monday     GSK     52.25     127.3      38.1   \n",
       "50  11/17/2011     16:16   Thursday    Home     51.16     127.6      72.4   \n",
       "52  11/16/2011     16:13  Wednesday    Home     51.12     125.1      65.0   \n",
       "54  11/15/2011     17:36    Tuesday    Home     51.06     122.8      61.4   \n",
       "\n",
       "    AvgMovingSpeed FuelEconomy  TotalTime  MovingTime Take407All  \\\n",
       "15            87.8        8.89       40.8        35.5         No   \n",
       "49            50.3       10.05       82.3        62.4         No   \n",
       "50            77.4       10.05       42.4        39.6         No   \n",
       "52            73.1        9.53       47.2        41.9         No   \n",
       "54            70.9        9.53       49.9        43.2         No   \n",
       "\n",
       "                                         Comments  \n",
       "15                              Put snow tires on  \n",
       "49                            Huge traffic backup  \n",
       "50  Pumped tires up: check fuel economy improved?  \n",
       "52                            Backed up at Bronte  \n",
       "54                            Backed up at Bronte  "
      ]
     },
     "execution_count": 102,
     "metadata": {},
     "output_type": "execute_result"
    }
   ],
   "source": [
    "data.head()"
   ]
  },
  {
   "cell_type": "code",
   "execution_count": 103,
   "metadata": {},
   "outputs": [
    {
     "data": {
      "text/plain": [
       "<matplotlib.axes._subplots.AxesSubplot at 0xf876fd0>"
      ]
     },
     "execution_count": 103,
     "metadata": {},
     "output_type": "execute_result"
    },
    {
     "data": {
      "image/png": "[encoded data removed]",
      "text/plain": [
       "<Figure size 1080x504 with 2 Axes>"
      ]
     },
     "metadata": {
      "needs_background": "light"
     },
     "output_type": "display_data"
    }
   ],
   "source": [
    "#Построим корреляционную матрицу\n",
    "import matplotlib.pyplot as plt\n",
    "import seaborn as sns\n",
    "fig, ax = plt.subplots(figsize=(15,7))\n",
    "sns.heatmap(data.corr(method='pearson'), ax=ax, annot=True, fmt='.2f')"
   ]
  },
  {
   "cell_type": "code",
   "execution_count": 104,
   "metadata": {},
   "outputs": [
    {
     "data": {
      "text/plain": [
       "<matplotlib.axes._subplots.AxesSubplot at 0xf9d8410>"
      ]
     },
     "execution_count": 104,
     "metadata": {},
     "output_type": "execute_result"
    },
    {
     "data": {
      "image/png": "[encoded data removed]",
      "text/plain": [
       "<Figure size 720x720 with 1 Axes>"
      ]
     },
     "metadata": {
      "needs_background": "light"
     },
     "output_type": "display_data"
    }
   ],
   "source": [
    "fig, ax = plt.subplots(figsize=(10,10)) \n",
    "sns.scatterplot(ax=ax, x='AvgMovingSpeed', y='AvgSpeed', data=data)"
   ]
  },
  {
   "cell_type": "code",
   "execution_count": 105,
   "metadata": {},
   "outputs": [],
   "source": [
    "train, test = train_test_split(data)\n"
   ]
  },
  {
   "cell_type": "code",
   "execution_count": 106,
   "metadata": {},
   "outputs": [
    {
     "data": {
      "text/html": [
       "<div>\n",
       "<style scoped>\n",
       "    .dataframe tbody tr th:only-of-type {\n",
       "        vertical-align: middle;\n",
       "    }\n",
       "\n",
       "    .dataframe tbody tr th {\n",
       "        vertical-align: top;\n",
       "    }\n",
       "\n",
       "    .dataframe thead th {\n",
       "        text-align: right;\n",
       "    }\n",
       "</style>\n",
       "<table border=\"1\" class=\"dataframe\">\n",
       "  <thead>\n",
       "    <tr style=\"text-align: right;\">\n",
       "      <th></th>\n",
       "      <th>Date</th>\n",
       "      <th>StartTime</th>\n",
       "      <th>DayOfWeek</th>\n",
       "      <th>GoingTo</th>\n",
       "      <th>Distance</th>\n",
       "      <th>MaxSpeed</th>\n",
       "      <th>AvgSpeed</th>\n",
       "      <th>AvgMovingSpeed</th>\n",
       "      <th>FuelEconomy</th>\n",
       "      <th>TotalTime</th>\n",
       "      <th>MovingTime</th>\n",
       "      <th>Take407All</th>\n",
       "      <th>Comments</th>\n",
       "    </tr>\n",
       "  </thead>\n",
       "  <tbody>\n",
       "    <tr>\n",
       "      <th>166</th>\n",
       "      <td>8/12/2011</td>\n",
       "      <td>08:05</td>\n",
       "      <td>Friday</td>\n",
       "      <td>GSK</td>\n",
       "      <td>49.02</td>\n",
       "      <td>128.4</td>\n",
       "      <td>76.7</td>\n",
       "      <td>82.9</td>\n",
       "      <td>8.54</td>\n",
       "      <td>38.4</td>\n",
       "      <td>35.5</td>\n",
       "      <td>No</td>\n",
       "      <td>Must be Friday</td>\n",
       "    </tr>\n",
       "    <tr>\n",
       "      <th>133</th>\n",
       "      <td>9/6/2011</td>\n",
       "      <td>16:27</td>\n",
       "      <td>Tuesday</td>\n",
       "      <td>Home</td>\n",
       "      <td>52.88</td>\n",
       "      <td>131.6</td>\n",
       "      <td>95.4</td>\n",
       "      <td>98.3</td>\n",
       "      <td>8.5</td>\n",
       "      <td>33.3</td>\n",
       "      <td>32.3</td>\n",
       "      <td>Yes</td>\n",
       "      <td>Took 407 all the way (to McMaster)</td>\n",
       "    </tr>\n",
       "    <tr>\n",
       "      <th>182</th>\n",
       "      <td>8/2/2011</td>\n",
       "      <td>07:38</td>\n",
       "      <td>Tuesday</td>\n",
       "      <td>GSK</td>\n",
       "      <td>53.48</td>\n",
       "      <td>124.9</td>\n",
       "      <td>68.8</td>\n",
       "      <td>78.8</td>\n",
       "      <td>8.48</td>\n",
       "      <td>46.7</td>\n",
       "      <td>40.7</td>\n",
       "      <td>No</td>\n",
       "      <td>Turn around on Derry</td>\n",
       "    </tr>\n",
       "    <tr>\n",
       "      <th>187</th>\n",
       "      <td>7/27/2011</td>\n",
       "      <td>17:24</td>\n",
       "      <td>Wednesday</td>\n",
       "      <td>Home</td>\n",
       "      <td>50.98</td>\n",
       "      <td>124.9</td>\n",
       "      <td>68.3</td>\n",
       "      <td>71.9</td>\n",
       "      <td>8.45</td>\n",
       "      <td>44.8</td>\n",
       "      <td>42.6</td>\n",
       "      <td>No</td>\n",
       "      <td>Police slowdown on 403</td>\n",
       "    </tr>\n",
       "    <tr>\n",
       "      <th>54</th>\n",
       "      <td>11/15/2011</td>\n",
       "      <td>17:36</td>\n",
       "      <td>Tuesday</td>\n",
       "      <td>Home</td>\n",
       "      <td>51.06</td>\n",
       "      <td>122.8</td>\n",
       "      <td>61.4</td>\n",
       "      <td>70.9</td>\n",
       "      <td>9.53</td>\n",
       "      <td>49.9</td>\n",
       "      <td>43.2</td>\n",
       "      <td>No</td>\n",
       "      <td>Backed up at Bronte</td>\n",
       "    </tr>\n",
       "  </tbody>\n",
       "</table>\n",
       "</div>"
      ],
      "text/plain": [
       "           Date StartTime  DayOfWeek GoingTo  Distance  MaxSpeed  AvgSpeed  \\\n",
       "166   8/12/2011     08:05     Friday     GSK     49.02     128.4      76.7   \n",
       "133    9/6/2011     16:27    Tuesday    Home     52.88     131.6      95.4   \n",
       "182    8/2/2011     07:38    Tuesday     GSK     53.48     124.9      68.8   \n",
       "187   7/27/2011     17:24  Wednesday    Home     50.98     124.9      68.3   \n",
       "54   11/15/2011     17:36    Tuesday    Home     51.06     122.8      61.4   \n",
       "\n",
       "     AvgMovingSpeed FuelEconomy  TotalTime  MovingTime Take407All  \\\n",
       "166            82.9        8.54       38.4        35.5         No   \n",
       "133            98.3         8.5       33.3        32.3        Yes   \n",
       "182            78.8        8.48       46.7        40.7         No   \n",
       "187            71.9        8.45       44.8        42.6         No   \n",
       "54             70.9        9.53       49.9        43.2         No   \n",
       "\n",
       "                               Comments  \n",
       "166                      Must be Friday  \n",
       "133  Took 407 all the way (to McMaster)  \n",
       "182                Turn around on Derry  \n",
       "187              Police slowdown on 403  \n",
       "54                  Backed up at Bronte  "
      ]
     },
     "execution_count": 106,
     "metadata": {},
     "output_type": "execute_result"
    }
   ],
   "source": [
    "train.head()"
   ]
  },
  {
   "cell_type": "code",
   "execution_count": 107,
   "metadata": {},
   "outputs": [
    {
     "data": {
      "text/html": [
       "<div>\n",
       "<style scoped>\n",
       "    .dataframe tbody tr th:only-of-type {\n",
       "        vertical-align: middle;\n",
       "    }\n",
       "\n",
       "    .dataframe tbody tr th {\n",
       "        vertical-align: top;\n",
       "    }\n",
       "\n",
       "    .dataframe thead th {\n",
       "        text-align: right;\n",
       "    }\n",
       "</style>\n",
       "<table border=\"1\" class=\"dataframe\">\n",
       "  <thead>\n",
       "    <tr style=\"text-align: right;\">\n",
       "      <th></th>\n",
       "      <th>Date</th>\n",
       "      <th>StartTime</th>\n",
       "      <th>DayOfWeek</th>\n",
       "      <th>GoingTo</th>\n",
       "      <th>Distance</th>\n",
       "      <th>MaxSpeed</th>\n",
       "      <th>AvgMovingSpeed</th>\n",
       "      <th>FuelEconomy</th>\n",
       "      <th>TotalTime</th>\n",
       "      <th>MovingTime</th>\n",
       "      <th>Take407All</th>\n",
       "      <th>Comments</th>\n",
       "    </tr>\n",
       "  </thead>\n",
       "  <tbody>\n",
       "    <tr>\n",
       "      <th>158</th>\n",
       "      <td>8/18/2011</td>\n",
       "      <td>08:11</td>\n",
       "      <td>Thursday</td>\n",
       "      <td>GSK</td>\n",
       "      <td>52.26</td>\n",
       "      <td>137.7</td>\n",
       "      <td>64.1</td>\n",
       "      <td>8.37</td>\n",
       "      <td>61.2</td>\n",
       "      <td>48.9</td>\n",
       "      <td>No</td>\n",
       "      <td>Accident at 403/highway 6; detour along Dundas</td>\n",
       "    </tr>\n",
       "    <tr>\n",
       "      <th>15</th>\n",
       "      <td>12/19/2011</td>\n",
       "      <td>07:34</td>\n",
       "      <td>Monday</td>\n",
       "      <td>GSK</td>\n",
       "      <td>52.00</td>\n",
       "      <td>137.8</td>\n",
       "      <td>87.8</td>\n",
       "      <td>8.89</td>\n",
       "      <td>40.8</td>\n",
       "      <td>35.5</td>\n",
       "      <td>No</td>\n",
       "      <td>Put snow tires on</td>\n",
       "    </tr>\n",
       "    <tr>\n",
       "      <th>150</th>\n",
       "      <td>8/24/2011</td>\n",
       "      <td>07:59</td>\n",
       "      <td>Wednesday</td>\n",
       "      <td>GSK</td>\n",
       "      <td>49.07</td>\n",
       "      <td>127.1</td>\n",
       "      <td>71.5</td>\n",
       "      <td>8.54</td>\n",
       "      <td>50.3</td>\n",
       "      <td>41.1</td>\n",
       "      <td>No</td>\n",
       "      <td>Heavy volume on Derry</td>\n",
       "    </tr>\n",
       "    <tr>\n",
       "      <th>184</th>\n",
       "      <td>7/29/2011</td>\n",
       "      <td>08:22</td>\n",
       "      <td>Friday</td>\n",
       "      <td>GSK</td>\n",
       "      <td>49.07</td>\n",
       "      <td>121.1</td>\n",
       "      <td>77.7</td>\n",
       "      <td>8.45</td>\n",
       "      <td>40.2</td>\n",
       "      <td>37.9</td>\n",
       "      <td>No</td>\n",
       "      <td>Empty roads</td>\n",
       "    </tr>\n",
       "    <tr>\n",
       "      <th>132</th>\n",
       "      <td>9/7/2011</td>\n",
       "      <td>07:57</td>\n",
       "      <td>Wednesday</td>\n",
       "      <td>GSK</td>\n",
       "      <td>49.08</td>\n",
       "      <td>125.1</td>\n",
       "      <td>66.5</td>\n",
       "      <td>8.5</td>\n",
       "      <td>52.1</td>\n",
       "      <td>44.3</td>\n",
       "      <td>No</td>\n",
       "      <td>Back to school traffic?</td>\n",
       "    </tr>\n",
       "  </tbody>\n",
       "</table>\n",
       "</div>"
      ],
      "text/plain": [
       "           Date StartTime  DayOfWeek GoingTo  Distance  MaxSpeed  \\\n",
       "158   8/18/2011     08:11   Thursday     GSK     52.26     137.7   \n",
       "15   12/19/2011     07:34     Monday     GSK     52.00     137.8   \n",
       "150   8/24/2011     07:59  Wednesday     GSK     49.07     127.1   \n",
       "184   7/29/2011     08:22     Friday     GSK     49.07     121.1   \n",
       "132    9/7/2011     07:57  Wednesday     GSK     49.08     125.1   \n",
       "\n",
       "     AvgMovingSpeed FuelEconomy  TotalTime  MovingTime Take407All  \\\n",
       "158            64.1        8.37       61.2        48.9         No   \n",
       "15             87.8        8.89       40.8        35.5         No   \n",
       "150            71.5        8.54       50.3        41.1         No   \n",
       "184            77.7        8.45       40.2        37.9         No   \n",
       "132            66.5         8.5       52.1        44.3         No   \n",
       "\n",
       "                                           Comments  \n",
       "158  Accident at 403/highway 6; detour along Dundas  \n",
       "15                                Put snow tires on  \n",
       "150                           Heavy volume on Derry  \n",
       "184                                     Empty roads  \n",
       "132                         Back to school traffic?  "
      ]
     },
     "execution_count": 107,
     "metadata": {},
     "output_type": "execute_result"
    }
   ],
   "source": [
    "test = test.drop(['AvgSpeed'],axis=1)\n",
    "test.head()"
   ]
  },
  {
   "cell_type": "code",
   "execution_count": 115,
   "metadata": {},
   "outputs": [
    {
     "data": {
      "text/plain": [
       "KNeighborsRegressor(algorithm='auto', leaf_size=30, metric='minkowski',\n",
       "                    metric_params=None, n_jobs=None, n_neighbors=5, p=2,\n",
       "                    weights='uniform')"
      ]
     },
     "execution_count": 115,
     "metadata": {},
     "output_type": "execute_result"
    }
   ],
   "source": [
    "#Регрессия\n",
    "KNeighborsRegressorObj = KNeighborsRegressor(n_neighbors=5)\n",
    "KNeighborsRegressorObj"
   ]
  },
  {
   "cell_type": "code",
   "execution_count": 116,
   "metadata": {},
   "outputs": [
    {
     "data": {
      "text/plain": [
       "array([61.24, 75.24, 63.38, 71.64, 61.24, 70.22])"
      ]
     },
     "execution_count": 116,
     "metadata": {},
     "output_type": "execute_result"
    }
   ],
   "source": [
    "KNeighborsRegressorObj.fit(train[['AvgMovingSpeed','TotalTime']], train['AvgSpeed'])\n",
    "KNeighborsRegressorObj.predict(test[['AvgMovingSpeed','TotalTime']])"
   ]
  },
  {
   "cell_type": "code",
   "execution_count": null,
   "metadata": {},
   "outputs": [],
   "source": []
  }
 ],
 "metadata": {
  "kernelspec": {
   "display_name": "Python 3",
   "language": "python",
   "name": "python3"
  },
  "language_info": {
   "codemirror_mode": {
    "name": "ipython",
    "version": 3
   },
   "file_extension": ".py",
   "mimetype": "text/x-python",
   "name": "python",
   "nbconvert_exporter": "python",
   "pygments_lexer": "ipython3",
   "version": "3.7.2"
  }
 },
 "nbformat": 4,
 "nbformat_minor": 2
}
